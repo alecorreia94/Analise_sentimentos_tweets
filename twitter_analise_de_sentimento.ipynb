{
  "nbformat": 4,
  "nbformat_minor": 0,
  "metadata": {
    "colab": {
      "provenance": [],
      "toc_visible": true,
      "mount_file_id": "1W5B0ibVgtKtehFWMpv9-RINN6U59hTCH",
      "authorship_tag": "ABX9TyOVIbGrATiSsiCcEJomx9sr",
      "include_colab_link": true
    },
    "kernelspec": {
      "name": "python3",
      "display_name": "Python 3"
    },
    "language_info": {
      "name": "python"
    }
  },
  "cells": [
    {
      "cell_type": "markdown",
      "metadata": {
        "id": "view-in-github",
        "colab_type": "text"
      },
      "source": [
        "<a href=\"https://colab.research.google.com/github/alecorreia94/Analise_sentimentos_tweets/blob/main/twitter_analise_de_sentimento.ipynb\" target=\"_parent\"><img src=\"https://colab.research.google.com/assets/colab-badge.svg\" alt=\"Open In Colab\"/></a>"
      ]
    },
    {
      "cell_type": "markdown",
      "source": [
        "# **1 INTRODUÇÃO**"
      ],
      "metadata": {
        "id": "jT93CcY9YrPh"
      }
    },
    {
      "cell_type": "markdown",
      "source": [
        "\n",
        "A análise de sentimentos desempenha um papel fundamental na compreensão\n",
        "das opiniões e emoções expressas pelos usuários nas redes sociais. A plataforma do Twitter, em particular, apresenta uma vasta quantidade de dados em tempo real, tornando-se um alvo interessante para pesquisas que envolvem análise sentimental. No entanto, as recentes políticas e restrições impostas pela API do Twitter têm gerado desafios significativos na extração direta desses dados.\n",
        "Diante dessa problemática, este trabalho propõe uma abordagem para a análise de sentimentos de dados provenientes do Twitter.\n",
        "\n",
        "A fim de superar as limitações impostas pela API do Twitter, utiliza-se uma base de dados disponível no Kaggle, composta por aproximadamente 5 mil tweets rotulados, coletados em 2018. Essa base de dados já possui rótulos para os sentimentos, sendo atribuído o valor 0 para sentimentos negativos, 1 para sentimentos positivos e 2 para sentimentos neutros. Para realizar a análise de sentimentos, optamos por empregar o modelo BERT (Bidirectional Encoder Representations from Transformers). O BERT é um modelo de linguagem pré-treinado, conhecido por sua capacidade de capturar relações contextuais entre palavras e fornecer representações de alta qualidade para tarefas de processamento de linguagem natural.\n",
        "\n",
        "Utiliza-se também a variante \"bert-base-portuguese-cased\", conhecida como BERTimbau, que foi especialmente desenvolvida para o idioma português brasileiro. O BERTimbau Base é um modelo pré-treinado para o português brasileiro que alcança resultados de ponta em três tarefas de NLP (Processamento de Linguagem Natural): Reconhecimento de Entidades Nomeadas, Similaridade Textual de Frases e Reconhecimento de Inferência Textual. Ele está disponível em duas versões: Base e Large.\n",
        "\n",
        "Este trabalho está organizado em sete seções principais além desta introdução. Na segunda seção apresenta-se os dados utilizada e descreve-se os procedimentos de coleta e preparação dos dados. A terceira seção trata da tokenização dos dados. Na quarta seção, apresenta-se os resultados obtidos ao aplicar o modelo BERT e a variante específica para a língua portuguesa. Na quinta seção é fornecida uma simples aplicação para testarmos o modelo na prática e torná-lo mais interativo. Por fim, na sexta apresenta-se as considerações finais em que discute-se as implicações e conclusões decorrentes dos resultados e na sétima as referências utilizadas para embasar a pesquisa e desenvolvimento deste trabalho.   \n"
      ],
      "metadata": {
        "id": "RuPdkFrlahhu"
      }
    },
    {
      "cell_type": "markdown",
      "source": [
        "### **Instação da biblioteca transformers e outras bibliotecas necessárias**"
      ],
      "metadata": {
        "id": "PoM4d6BLkpeo"
      }
    },
    {
      "cell_type": "code",
      "source": [
        "# instala o transformers\n",
        "!pip install transformers\n",
        "\n",
        "import pandas as pd  # Importa a biblioteca pandas para trabalhar com dados tabulares\n",
        "import torch  # Importa a biblioteca PyTorch para treinar modelos de deep learning\n",
        "import random  # Importa a biblioteca random para geração de números aleatórios\n",
        "import numpy as np  # Importa a biblioteca numpy para trabalhar com matrizes numéricas\n",
        "from sklearn.model_selection import train_test_split  # Importa a função train_test_split do scikit-learn para dividir os dados em treinamento e teste\n",
        "from transformers import BertTokenizer, BertForSequenceClassification, AdamW, BertModel  # Importa as classes e funções relacionadas ao modelo BERT da biblioteca transformers\n",
        "from torch import nn  # Importa o módulo nn do PyTorch para definir redes neurais"
      ],
      "metadata": {
        "colab": {
          "base_uri": "https://localhost:8080/"
        },
        "id": "kkkEWFmZMb3O",
        "outputId": "de0e62a1-7a57-4c1b-fb23-02914b9cc607"
      },
      "execution_count": null,
      "outputs": [
        {
          "output_type": "stream",
          "name": "stdout",
          "text": [
            "Requirement already satisfied: transformers in /usr/local/lib/python3.10/dist-packages (4.31.0)\n",
            "Requirement already satisfied: filelock in /usr/local/lib/python3.10/dist-packages (from transformers) (3.12.2)\n",
            "Requirement already satisfied: huggingface-hub<1.0,>=0.14.1 in /usr/local/lib/python3.10/dist-packages (from transformers) (0.16.4)\n",
            "Requirement already satisfied: numpy>=1.17 in /usr/local/lib/python3.10/dist-packages (from transformers) (1.22.4)\n",
            "Requirement already satisfied: packaging>=20.0 in /usr/local/lib/python3.10/dist-packages (from transformers) (23.1)\n",
            "Requirement already satisfied: pyyaml>=5.1 in /usr/local/lib/python3.10/dist-packages (from transformers) (6.0)\n",
            "Requirement already satisfied: regex!=2019.12.17 in /usr/local/lib/python3.10/dist-packages (from transformers) (2022.10.31)\n",
            "Requirement already satisfied: requests in /usr/local/lib/python3.10/dist-packages (from transformers) (2.27.1)\n",
            "Requirement already satisfied: tokenizers!=0.11.3,<0.14,>=0.11.1 in /usr/local/lib/python3.10/dist-packages (from transformers) (0.13.3)\n",
            "Requirement already satisfied: safetensors>=0.3.1 in /usr/local/lib/python3.10/dist-packages (from transformers) (0.3.1)\n",
            "Requirement already satisfied: tqdm>=4.27 in /usr/local/lib/python3.10/dist-packages (from transformers) (4.65.0)\n",
            "Requirement already satisfied: fsspec in /usr/local/lib/python3.10/dist-packages (from huggingface-hub<1.0,>=0.14.1->transformers) (2023.6.0)\n",
            "Requirement already satisfied: typing-extensions>=3.7.4.3 in /usr/local/lib/python3.10/dist-packages (from huggingface-hub<1.0,>=0.14.1->transformers) (4.7.1)\n",
            "Requirement already satisfied: urllib3<1.27,>=1.21.1 in /usr/local/lib/python3.10/dist-packages (from requests->transformers) (1.26.16)\n",
            "Requirement already satisfied: certifi>=2017.4.17 in /usr/local/lib/python3.10/dist-packages (from requests->transformers) (2023.5.7)\n",
            "Requirement already satisfied: charset-normalizer~=2.0.0 in /usr/local/lib/python3.10/dist-packages (from requests->transformers) (2.0.12)\n",
            "Requirement already satisfied: idna<4,>=2.5 in /usr/local/lib/python3.10/dist-packages (from requests->transformers) (3.4)\n"
          ]
        }
      ]
    },
    {
      "cell_type": "markdown",
      "source": [
        "# **2 DADOS**\n"
      ],
      "metadata": {
        "id": "_S5aROYXmBSP"
      }
    },
    {
      "cell_type": "markdown",
      "source": [
        "Os dados utilizados neste projeto foram obtidos a partir do Kaggle (https://www.kaggle.com/datasets/debkings/tweetpt). O conjunto de dados original continha várias variáveis, incluindo id, tweet_text, tweet_date, sentiment e query_used. Para este projeto, fizemos um tratamento nos dados e mantivemos apenas as variáveis tweet_text e sentiment.\n",
        "\n",
        "A variável tweet_text contém o texto do tweet, enquanto a variável sentiment representa os rótulos de sentimentos associados a cada tweet. Os rótulos de sentimentos são representados pelos valores 0, 1 e 2, que correspondem a sentimentos negativos, positivos e neutros, respectivamente."
      ],
      "metadata": {
        "id": "wsYZD2mlmMYD"
      }
    },
    {
      "cell_type": "code",
      "source": [
        "# Define a semente para reprodutibilidade\n",
        "seed = 234\n",
        "np.random.seed(seed)\n",
        "\n",
        "# Lê os dados do Twitter a partir do arquivo CSV\n",
        "twitter_data = pd.read_csv('/content/drive/MyDrive/Colab Notebooks/twitter_data/tweet_data.csv',sep = ';')"
      ],
      "metadata": {
        "id": "u7pYe9lidjjD"
      },
      "execution_count": null,
      "outputs": []
    },
    {
      "cell_type": "markdown",
      "source": [
        "## **2.1 Análise exploratória dos dados**\n",
        "\n",
        "\n"
      ],
      "metadata": {
        "id": "jrNXVQYUZXOg"
      }
    },
    {
      "cell_type": "markdown",
      "source": [
        "Abaixo é realizado uma amostragem aleatória de 1% dos dados do DataFrame twitter_data para não haver crash de memória e é exibido as primeiras linhas do DataFrame amostrado usando df.head() e df.shape para mostrar o tamanho do dataframe"
      ],
      "metadata": {
        "id": "dT8iURsBnLyt"
      }
    },
    {
      "cell_type": "code",
      "source": [
        "#Criação do dataframe\n",
        "df = twitter_data.sample(frac=0.01).reset_index(drop=True)\n",
        "df.head()"
      ],
      "metadata": {
        "colab": {
          "base_uri": "https://localhost:8080/",
          "height": 206
        },
        "id": "27nIfcOOYde3",
        "outputId": "6660c365-febb-4e19-865f-e4f39ed9c93b"
      },
      "execution_count": null,
      "outputs": [
        {
          "output_type": "execute_result",
          "data": {
            "text/plain": [
              "                                          tweet_text  sentiment\n",
              "0  Base do governo quer investigar irregularidade...          2\n",
              "1                      gente eu to enjoada demais :(          0\n",
              "2  Novato de 40 anos: Buffon solta a voz em trote...          2\n",
              "3              eu tô como :( https://t.co/s2kg2QWeEc          0\n",
              "4  Considerado o maior especialista em manuscrito...          2"
            ],
            "text/html": [
              "\n",
              "\n",
              "  <div id=\"df-bc873ae0-75d7-48e8-91a0-5569000c05ee\">\n",
              "    <div class=\"colab-df-container\">\n",
              "      <div>\n",
              "<style scoped>\n",
              "    .dataframe tbody tr th:only-of-type {\n",
              "        vertical-align: middle;\n",
              "    }\n",
              "\n",
              "    .dataframe tbody tr th {\n",
              "        vertical-align: top;\n",
              "    }\n",
              "\n",
              "    .dataframe thead th {\n",
              "        text-align: right;\n",
              "    }\n",
              "</style>\n",
              "<table border=\"1\" class=\"dataframe\">\n",
              "  <thead>\n",
              "    <tr style=\"text-align: right;\">\n",
              "      <th></th>\n",
              "      <th>tweet_text</th>\n",
              "      <th>sentiment</th>\n",
              "    </tr>\n",
              "  </thead>\n",
              "  <tbody>\n",
              "    <tr>\n",
              "      <th>0</th>\n",
              "      <td>Base do governo quer investigar irregularidade...</td>\n",
              "      <td>2</td>\n",
              "    </tr>\n",
              "    <tr>\n",
              "      <th>1</th>\n",
              "      <td>gente eu to enjoada demais :(</td>\n",
              "      <td>0</td>\n",
              "    </tr>\n",
              "    <tr>\n",
              "      <th>2</th>\n",
              "      <td>Novato de 40 anos: Buffon solta a voz em trote...</td>\n",
              "      <td>2</td>\n",
              "    </tr>\n",
              "    <tr>\n",
              "      <th>3</th>\n",
              "      <td>eu tô como :( https://t.co/s2kg2QWeEc</td>\n",
              "      <td>0</td>\n",
              "    </tr>\n",
              "    <tr>\n",
              "      <th>4</th>\n",
              "      <td>Considerado o maior especialista em manuscrito...</td>\n",
              "      <td>2</td>\n",
              "    </tr>\n",
              "  </tbody>\n",
              "</table>\n",
              "</div>\n",
              "      <button class=\"colab-df-convert\" onclick=\"convertToInteractive('df-bc873ae0-75d7-48e8-91a0-5569000c05ee')\"\n",
              "              title=\"Convert this dataframe to an interactive table.\"\n",
              "              style=\"display:none;\">\n",
              "\n",
              "  <svg xmlns=\"http://www.w3.org/2000/svg\" height=\"24px\"viewBox=\"0 0 24 24\"\n",
              "       width=\"24px\">\n",
              "    <path d=\"M0 0h24v24H0V0z\" fill=\"none\"/>\n",
              "    <path d=\"M18.56 5.44l.94 2.06.94-2.06 2.06-.94-2.06-.94-.94-2.06-.94 2.06-2.06.94zm-11 1L8.5 8.5l.94-2.06 2.06-.94-2.06-.94L8.5 2.5l-.94 2.06-2.06.94zm10 10l.94 2.06.94-2.06 2.06-.94-2.06-.94-.94-2.06-.94 2.06-2.06.94z\"/><path d=\"M17.41 7.96l-1.37-1.37c-.4-.4-.92-.59-1.43-.59-.52 0-1.04.2-1.43.59L10.3 9.45l-7.72 7.72c-.78.78-.78 2.05 0 2.83L4 21.41c.39.39.9.59 1.41.59.51 0 1.02-.2 1.41-.59l7.78-7.78 2.81-2.81c.8-.78.8-2.07 0-2.86zM5.41 20L4 18.59l7.72-7.72 1.47 1.35L5.41 20z\"/>\n",
              "  </svg>\n",
              "      </button>\n",
              "\n",
              "\n",
              "\n",
              "    <div id=\"df-4d908dea-259a-41ea-bf8c-313b1b8d5ef4\">\n",
              "      <button class=\"colab-df-quickchart\" onclick=\"quickchart('df-4d908dea-259a-41ea-bf8c-313b1b8d5ef4')\"\n",
              "              title=\"Suggest charts.\"\n",
              "              style=\"display:none;\">\n",
              "\n",
              "<svg xmlns=\"http://www.w3.org/2000/svg\" height=\"24px\"viewBox=\"0 0 24 24\"\n",
              "     width=\"24px\">\n",
              "    <g>\n",
              "        <path d=\"M19 3H5c-1.1 0-2 .9-2 2v14c0 1.1.9 2 2 2h14c1.1 0 2-.9 2-2V5c0-1.1-.9-2-2-2zM9 17H7v-7h2v7zm4 0h-2V7h2v10zm4 0h-2v-4h2v4z\"/>\n",
              "    </g>\n",
              "</svg>\n",
              "      </button>\n",
              "    </div>\n",
              "\n",
              "<style>\n",
              "  .colab-df-quickchart {\n",
              "    background-color: #E8F0FE;\n",
              "    border: none;\n",
              "    border-radius: 50%;\n",
              "    cursor: pointer;\n",
              "    display: none;\n",
              "    fill: #1967D2;\n",
              "    height: 32px;\n",
              "    padding: 0 0 0 0;\n",
              "    width: 32px;\n",
              "  }\n",
              "\n",
              "  .colab-df-quickchart:hover {\n",
              "    background-color: #E2EBFA;\n",
              "    box-shadow: 0px 1px 2px rgba(60, 64, 67, 0.3), 0px 1px 3px 1px rgba(60, 64, 67, 0.15);\n",
              "    fill: #174EA6;\n",
              "  }\n",
              "\n",
              "  [theme=dark] .colab-df-quickchart {\n",
              "    background-color: #3B4455;\n",
              "    fill: #D2E3FC;\n",
              "  }\n",
              "\n",
              "  [theme=dark] .colab-df-quickchart:hover {\n",
              "    background-color: #434B5C;\n",
              "    box-shadow: 0px 1px 3px 1px rgba(0, 0, 0, 0.15);\n",
              "    filter: drop-shadow(0px 1px 2px rgba(0, 0, 0, 0.3));\n",
              "    fill: #FFFFFF;\n",
              "  }\n",
              "</style>\n",
              "\n",
              "    <script>\n",
              "      async function quickchart(key) {\n",
              "        const containerElement = document.querySelector('#' + key);\n",
              "        const charts = await google.colab.kernel.invokeFunction(\n",
              "            'suggestCharts', [key], {});\n",
              "      }\n",
              "    </script>\n",
              "\n",
              "      <script>\n",
              "\n",
              "function displayQuickchartButton(domScope) {\n",
              "  let quickchartButtonEl =\n",
              "    domScope.querySelector('#df-4d908dea-259a-41ea-bf8c-313b1b8d5ef4 button.colab-df-quickchart');\n",
              "  quickchartButtonEl.style.display =\n",
              "    google.colab.kernel.accessAllowed ? 'block' : 'none';\n",
              "}\n",
              "\n",
              "        displayQuickchartButton(document);\n",
              "      </script>\n",
              "      <style>\n",
              "    .colab-df-container {\n",
              "      display:flex;\n",
              "      flex-wrap:wrap;\n",
              "      gap: 12px;\n",
              "    }\n",
              "\n",
              "    .colab-df-convert {\n",
              "      background-color: #E8F0FE;\n",
              "      border: none;\n",
              "      border-radius: 50%;\n",
              "      cursor: pointer;\n",
              "      display: none;\n",
              "      fill: #1967D2;\n",
              "      height: 32px;\n",
              "      padding: 0 0 0 0;\n",
              "      width: 32px;\n",
              "    }\n",
              "\n",
              "    .colab-df-convert:hover {\n",
              "      background-color: #E2EBFA;\n",
              "      box-shadow: 0px 1px 2px rgba(60, 64, 67, 0.3), 0px 1px 3px 1px rgba(60, 64, 67, 0.15);\n",
              "      fill: #174EA6;\n",
              "    }\n",
              "\n",
              "    [theme=dark] .colab-df-convert {\n",
              "      background-color: #3B4455;\n",
              "      fill: #D2E3FC;\n",
              "    }\n",
              "\n",
              "    [theme=dark] .colab-df-convert:hover {\n",
              "      background-color: #434B5C;\n",
              "      box-shadow: 0px 1px 3px 1px rgba(0, 0, 0, 0.15);\n",
              "      filter: drop-shadow(0px 1px 2px rgba(0, 0, 0, 0.3));\n",
              "      fill: #FFFFFF;\n",
              "    }\n",
              "  </style>\n",
              "\n",
              "      <script>\n",
              "        const buttonEl =\n",
              "          document.querySelector('#df-bc873ae0-75d7-48e8-91a0-5569000c05ee button.colab-df-convert');\n",
              "        buttonEl.style.display =\n",
              "          google.colab.kernel.accessAllowed ? 'block' : 'none';\n",
              "\n",
              "        async function convertToInteractive(key) {\n",
              "          const element = document.querySelector('#df-bc873ae0-75d7-48e8-91a0-5569000c05ee');\n",
              "          const dataTable =\n",
              "            await google.colab.kernel.invokeFunction('convertToInteractive',\n",
              "                                                     [key], {});\n",
              "          if (!dataTable) return;\n",
              "\n",
              "          const docLinkHtml = 'Like what you see? Visit the ' +\n",
              "            '<a target=\"_blank\" href=https://colab.research.google.com/notebooks/data_table.ipynb>data table notebook</a>'\n",
              "            + ' to learn more about interactive tables.';\n",
              "          element.innerHTML = '';\n",
              "          dataTable['output_type'] = 'display_data';\n",
              "          await google.colab.output.renderOutput(dataTable, element);\n",
              "          const docLink = document.createElement('div');\n",
              "          docLink.innerHTML = docLinkHtml;\n",
              "          element.appendChild(docLink);\n",
              "        }\n",
              "      </script>\n",
              "    </div>\n",
              "  </div>\n"
            ]
          },
          "metadata": {},
          "execution_count": 67
        }
      ]
    },
    {
      "cell_type": "code",
      "source": [
        "#tamanho do DataFrame\n",
        "df.shape"
      ],
      "metadata": {
        "colab": {
          "base_uri": "https://localhost:8080/"
        },
        "id": "lL2hcwxvYepE",
        "outputId": "22106b52-2fa4-4f76-fe27-2036a2f5f907"
      },
      "execution_count": null,
      "outputs": [
        {
          "output_type": "execute_result",
          "data": {
            "text/plain": [
              "(50, 2)"
            ]
          },
          "metadata": {},
          "execution_count": 68
        }
      ]
    },
    {
      "cell_type": "markdown",
      "source": [
        "Abaixo temos um gráfico de barras que exibe a contagem dos diferentes sentimentos dos tweets presentes no DataFrame df. Os sentimentos são representados no eixo x e a altura das barras indica a contagem de tweets para cada sentimento.\n"
      ],
      "metadata": {
        "id": "ZZJDDkoVoQwz"
      }
    },
    {
      "cell_type": "code",
      "source": [
        "import seaborn as sns\n",
        "import pandas as pd\n",
        "import matplotlib.pyplot as plt\n",
        "ax=sns.countplot(x=df[\"sentiment\"])\n",
        "class_names = ['negative', 'positive', 'neutral']\n",
        "plt.xlabel('tweet sentiment')\n",
        "ax.set_xticklabels(class_names);"
      ],
      "metadata": {
        "colab": {
          "base_uri": "https://localhost:8080/",
          "height": 449
        },
        "id": "IrHjLnepUIuD",
        "outputId": "4810e493-471e-4907-d395-0309be12f867"
      },
      "execution_count": null,
      "outputs": [
        {
          "output_type": "display_data",
          "data": {
            "text/plain": [
              "<Figure size 640x480 with 1 Axes>"
            ],
            "image/png": "[encoded data removed]"
          },
          "metadata": {}
        }
      ]
    },
    {
      "cell_type": "markdown",
      "source": [
        "Aqui são dividos os dados em conjuntos de treinamento e teste usando a função train_test_split. Os textos dos tweets são armazenados nas variáveis train_text e test_text, enquanto os rótulos de sentimentos são armazenados nas variáveis train_labels e test_labels. A divisão é feita de forma aleatória, preservando a distribuição dos sentimentos nos conjuntos."
      ],
      "metadata": {
        "id": "ggYgH3Zno2tu"
      }
    },
    {
      "cell_type": "code",
      "source": [
        "#partição dos dados\n",
        "train_text, test_text, train_labels, test_labels = train_test_split(df['tweet_text'], df['sentiment'],\n",
        "                                                                    random_state=42,\n",
        "                                                                    test_size=0.3,\n",
        "                                                                    stratify=df['sentiment'])"
      ],
      "metadata": {
        "id": "gHgmKpY2Zter"
      },
      "execution_count": null,
      "outputs": []
    },
    {
      "cell_type": "markdown",
      "source": [
        "# **3 FUNCIONAMENTO DO MODELO BERT**"
      ],
      "metadata": {
        "id": "_0Gy3gz-RTqJ"
      }
    },
    {
      "cell_type": "markdown",
      "source": [
        "## **3.1 Processo de tokenização dos dados textuais**"
      ],
      "metadata": {
        "id": "aONCA6AHSh8V"
      }
    },
    {
      "cell_type": "markdown",
      "source": [
        "Nessa parte usa-se o modelo pré-treinado BERT para o idioma português e o tokenizador associado a esse modelo. Em seguida, seleciona-se um exemplo de texto de tweet do DataFrame e o tokenizamos usando o tokenizador. Em seguida, imprime o texto original do tweet, os tokens resultantes e seus IDs correspondentes. Isso nos ajuda a entender o processo de tokenização e como os textos são representados pelo modelo BERT."
      ],
      "metadata": {
        "id": "-9z9SMpOpvGj"
      }
    },
    {
      "cell_type": "code",
      "source": [
        "#tokenizador do BERTimbau\n",
        "\n",
        "PRE_TRAINED_MODEL_NAME = 'neuralmind/bert-base-portuguese-cased'\n",
        "\n",
        "tokenizer = BertTokenizer.from_pretrained(PRE_TRAINED_MODEL_NAME)\n",
        "\n",
        "sample_txt = df.tweet_text[1]\n",
        "\n",
        "tokens = tokenizer.tokenize(sample_txt)\n",
        "token_ids = tokenizer.convert_tokens_to_ids(tokens)\n",
        "\n",
        "print(f' Sentence: {sample_txt}')\n",
        "print(f'   Tokens: {tokens}')\n",
        "print(f'Token IDs: {token_ids}')"
      ],
      "metadata": {
        "id": "6YkOl8C4W2a_",
        "colab": {
          "base_uri": "https://localhost:8080/"
        },
        "outputId": "ca0b2453-c20e-4783-d4ac-348dc0d25bc3"
      },
      "execution_count": null,
      "outputs": [
        {
          "output_type": "stream",
          "name": "stdout",
          "text": [
            " Sentence: gente eu to enjoada demais :(\n",
            "   Tokens: ['gente', 'eu', 'to', 'en', '##jo', '##ada', 'demais', ':', '(']\n",
            "Token IDs: [9349, 2779, 374, 432, 1286, 251, 3547, 131, 113]\n"
          ]
        }
      ]
    },
    {
      "cell_type": "markdown",
      "source": [
        "Para cumprir os requisitos de entrada do BERT é preciso criar vetores de 0s e 1s chamados attention mask, que indicam quais token devem ser considerados como válidos, e adicionar mais três tokens especiais nos textos:\n",
        "\n",
        "[SEP] (102)- Marca o fim de uma frase\n",
        "\n",
        "[CLS] (101)- Deve ser colocado no inicio de cada frase para o BERT saber que trata-se de um problema de classificação.\n",
        "\n",
        "[PAD] (0)- Tokens de valor 0 que devem ser adicionados às sentenças para garantir que todas tenham o mesmo tamanho\n",
        "\n",
        "\n"
      ],
      "metadata": {
        "id": "Qf8a8mmZavE5"
      }
    },
    {
      "cell_type": "markdown",
      "source": [
        "Dessa forma, usa-se tokenizador BERT para codificar o texto de um tweet. Define-se opções como o comprimento máximo da sequência, adição de tokens especiais, criação de máscara de atenção e retorno dos resultados como tensores do PyTorch. O objeto encoding contém as informações codificadas, e ao chamar encoding.keys(), podemos ver as chaves disponíveis nesse objeto."
      ],
      "metadata": {
        "id": "9hKAPsTgquh_"
      }
    },
    {
      "cell_type": "code",
      "source": [
        "#criação dos tokens\n",
        "encoding = tokenizer.encode_plus(\n",
        "  sample_txt,\n",
        "  max_length=100,\n",
        "  add_special_tokens=True, # Add '[CLS]' and '[SEP]'\n",
        "  return_token_type_ids=False,\n",
        "  pad_to_max_length=True,\n",
        "  return_attention_mask=True,\n",
        "  return_tensors='pt',  # Return PyTorch tensors\n",
        ")\n",
        "\n",
        "encoding.keys()"
      ],
      "metadata": {
        "colab": {
          "base_uri": "https://localhost:8080/"
        },
        "id": "CpCvwJ_SaTzo",
        "outputId": "a2a150cb-00ea-48a0-addc-fc1e12cda2db"
      },
      "execution_count": null,
      "outputs": [
        {
          "output_type": "stream",
          "name": "stderr",
          "text": [
            "Truncation was not explicitly activated but `max_length` is provided a specific value, please use `truncation=True` to explicitly truncate examples to max length. Defaulting to 'longest_first' truncation strategy. If you encode pairs of sequences (GLUE-style) with the tokenizer you can select this strategy more precisely by providing a specific strategy to `truncation`.\n",
            "/usr/local/lib/python3.10/dist-packages/transformers/tokenization_utils_base.py:2393: FutureWarning: The `pad_to_max_length` argument is deprecated and will be removed in a future version, use `padding=True` or `padding='longest'` to pad to the longest sequence in the batch, or use `padding='max_length'` to pad to a max length. In this case, you can give a specific length with `max_length` (e.g. `max_length=45`) or leave max_length to None to pad to the maximal input size of the model (e.g. 512 for Bert).\n",
            "  warnings.warn(\n"
          ]
        },
        {
          "output_type": "execute_result",
          "data": {
            "text/plain": [
              "dict_keys(['input_ids', 'attention_mask'])"
            ]
          },
          "metadata": {},
          "execution_count": 72
        }
      ]
    },
    {
      "cell_type": "markdown",
      "source": [
        "**IDs dos tokens**: Os IDs dos tokens agora estão armazenados em um tensor e foram preenchidos para um comprimento de 100. Essas informações são úteis para entender o tamanho da sequência e visualizar como o texto do tweet foi representado numericamente."
      ],
      "metadata": {
        "id": "LnD35vbLabUL"
      }
    },
    {
      "cell_type": "code",
      "source": [
        "print(len(encoding['input_ids'][0]))\n",
        "encoding['input_ids'][0]"
      ],
      "metadata": {
        "colab": {
          "base_uri": "https://localhost:8080/"
        },
        "id": "98-8bzCCalHx",
        "outputId": "9269862d-a530-4dfd-91c6-6d7c3336d5b8"
      },
      "execution_count": null,
      "outputs": [
        {
          "output_type": "stream",
          "name": "stdout",
          "text": [
            "100\n"
          ]
        },
        {
          "output_type": "execute_result",
          "data": {
            "text/plain": [
              "tensor([ 101, 9349, 2779,  374,  432, 1286,  251, 3547,  131,  113,  102,    0,\n",
              "           0,    0,    0,    0,    0,    0,    0,    0,    0,    0,    0,    0,\n",
              "           0,    0,    0,    0,    0,    0,    0,    0,    0,    0,    0,    0,\n",
              "           0,    0,    0,    0,    0,    0,    0,    0,    0,    0,    0,    0,\n",
              "           0,    0,    0,    0,    0,    0,    0,    0,    0,    0,    0,    0,\n",
              "           0,    0,    0,    0,    0,    0,    0,    0,    0,    0,    0,    0,\n",
              "           0,    0,    0,    0,    0,    0,    0,    0,    0,    0,    0,    0,\n",
              "           0,    0,    0,    0,    0,    0,    0,    0,    0,    0,    0,    0,\n",
              "           0,    0,    0,    0])"
            ]
          },
          "metadata": {},
          "execution_count": 73
        }
      ]
    },
    {
      "cell_type": "markdown",
      "source": [
        "**Máscara de atenção**: abaixo tem-se o comprimento da máscara de atenção e a própria máscara de atenção em si. A máscara de atenção indica quais tokens são de preenchimento (0) e quais são tokens reais (1) na sequência de tokens."
      ],
      "metadata": {
        "id": "RiJNjGiDbRaC"
      }
    },
    {
      "cell_type": "code",
      "source": [
        "print(len(encoding['attention_mask'][0]))\n",
        "encoding['attention_mask']"
      ],
      "metadata": {
        "colab": {
          "base_uri": "https://localhost:8080/"
        },
        "id": "xuImAsmObWWw",
        "outputId": "789ad7e5-2825-493f-836b-f9ef37f54adc"
      },
      "execution_count": null,
      "outputs": [
        {
          "output_type": "stream",
          "name": "stdout",
          "text": [
            "100\n"
          ]
        },
        {
          "output_type": "execute_result",
          "data": {
            "text/plain": [
              "tensor([[1, 1, 1, 1, 1, 1, 1, 1, 1, 1, 1, 0, 0, 0, 0, 0, 0, 0, 0, 0, 0, 0, 0, 0,\n",
              "         0, 0, 0, 0, 0, 0, 0, 0, 0, 0, 0, 0, 0, 0, 0, 0, 0, 0, 0, 0, 0, 0, 0, 0,\n",
              "         0, 0, 0, 0, 0, 0, 0, 0, 0, 0, 0, 0, 0, 0, 0, 0, 0, 0, 0, 0, 0, 0, 0, 0,\n",
              "         0, 0, 0, 0, 0, 0, 0, 0, 0, 0, 0, 0, 0, 0, 0, 0, 0, 0, 0, 0, 0, 0, 0, 0,\n",
              "         0, 0, 0, 0]])"
            ]
          },
          "metadata": {},
          "execution_count": 74
        }
      ]
    },
    {
      "cell_type": "markdown",
      "source": [
        "**Tokens especiais**: Essa linha de código converte os IDs dos tokens de volta para suas representações de texto usando o tokenizador BERT. Isso nos permite visualizar os tokens originais associados aos IDs dos tokens."
      ],
      "metadata": {
        "id": "rzw8wOY3bf9e"
      }
    },
    {
      "cell_type": "code",
      "source": [
        "print(tokenizer.convert_ids_to_tokens(encoding['input_ids'][0]))"
      ],
      "metadata": {
        "colab": {
          "base_uri": "https://localhost:8080/"
        },
        "id": "roCFIAQ4bfRs",
        "outputId": "f04ad5dd-7e98-4770-fbb4-bee83faea131"
      },
      "execution_count": null,
      "outputs": [
        {
          "output_type": "stream",
          "name": "stdout",
          "text": [
            "['[CLS]', 'gente', 'eu', 'to', 'en', '##jo', '##ada', 'demais', ':', '(', '[SEP]', '[PAD]', '[PAD]', '[PAD]', '[PAD]', '[PAD]', '[PAD]', '[PAD]', '[PAD]', '[PAD]', '[PAD]', '[PAD]', '[PAD]', '[PAD]', '[PAD]', '[PAD]', '[PAD]', '[PAD]', '[PAD]', '[PAD]', '[PAD]', '[PAD]', '[PAD]', '[PAD]', '[PAD]', '[PAD]', '[PAD]', '[PAD]', '[PAD]', '[PAD]', '[PAD]', '[PAD]', '[PAD]', '[PAD]', '[PAD]', '[PAD]', '[PAD]', '[PAD]', '[PAD]', '[PAD]', '[PAD]', '[PAD]', '[PAD]', '[PAD]', '[PAD]', '[PAD]', '[PAD]', '[PAD]', '[PAD]', '[PAD]', '[PAD]', '[PAD]', '[PAD]', '[PAD]', '[PAD]', '[PAD]', '[PAD]', '[PAD]', '[PAD]', '[PAD]', '[PAD]', '[PAD]', '[PAD]', '[PAD]', '[PAD]', '[PAD]', '[PAD]', '[PAD]', '[PAD]', '[PAD]', '[PAD]', '[PAD]', '[PAD]', '[PAD]', '[PAD]', '[PAD]', '[PAD]', '[PAD]', '[PAD]', '[PAD]', '[PAD]', '[PAD]', '[PAD]', '[PAD]', '[PAD]', '[PAD]', '[PAD]', '[PAD]', '[PAD]', '[PAD]']\n"
          ]
        }
      ]
    },
    {
      "cell_type": "markdown",
      "source": [
        "## **3.2 Escolhendo o comprimento da sequência**\n",
        "\n",
        "Como o BERT trabalha com um tamanho fixo de entrada, um dos parâmetros chave durante o processo de tokenização é a escolha do valor máximo dessa entrada (max_length).\n",
        "\n",
        "Esse valor será definido analisando a distribuição dos tokens presentes no dataset. Como a maioria deles tem um tamanho menor que 60, será escolhido um max_lenght de 120 apenas para garantir que todos os casos serão cobertos.\n"
      ],
      "metadata": {
        "id": "avpfgRUrb7pn"
      }
    },
    {
      "cell_type": "markdown",
      "source": [
        "### **3.2.1 Gráfico de densidade de tokens**"
      ],
      "metadata": {
        "id": "koHz5V35hx8P"
      }
    },
    {
      "cell_type": "markdown",
      "source": [
        "Logo abaixo encontra-se um gráfico de distribuição desse número. O gráfico nos permite visualizar como os textos de tweet estão distribuídos em termos de contagem de tokens."
      ],
      "metadata": {
        "id": "LtNXw7_qwb0y"
      }
    },
    {
      "cell_type": "code",
      "source": [
        "#Tamanho dos tokens\n",
        "token_lens = []\n",
        "\n",
        "for txt in df.tweet_text:\n",
        "  tokens = tokenizer.encode(txt, max_length=120)\n",
        "  token_lens.append(len(tokens))\n",
        "\n",
        "sns.distplot(token_lens)\n",
        "plt.xlim([0, 120]);\n",
        "plt.xlabel('Token count');"
      ],
      "metadata": {
        "colab": {
          "base_uri": "https://localhost:8080/",
          "height": 640
        },
        "id": "mBkuNjZocBp6",
        "outputId": "86831343-43ee-44ca-c4bc-87ee7a671f81"
      },
      "execution_count": null,
      "outputs": [
        {
          "output_type": "stream",
          "name": "stderr",
          "text": [
            "<ipython-input-76-4d6f0c826d8f>:8: UserWarning: \n",
            "\n",
            "`distplot` is a deprecated function and will be removed in seaborn v0.14.0.\n",
            "\n",
            "Please adapt your code to use either `displot` (a figure-level function with\n",
            "similar flexibility) or `histplot` (an axes-level function for histograms).\n",
            "\n",
            "For a guide to updating your code to use the new functions, please see\n",
            "https://gist.github.com/mwaskom/de44147ed2974457ad6372750bbe5751\n",
            "\n",
            "  sns.distplot(token_lens)\n"
          ]
        },
        {
          "output_type": "display_data",
          "data": {
            "text/plain": [
              "<Figure size 640x480 with 1 Axes>"
            ],
            "image/png": "[encoded data removed]"
          },
          "metadata": {}
        }
      ]
    },
    {
      "cell_type": "markdown",
      "source": [
        "Abaixo utiliza-se o tokenizador BERT para codificar os textos de treinamento e teste. As configurações incluem truncamento, preenchimento e limitação do comprimento máximo da sequência. Em seguida, exibe-se informações sobre o primeiro exemplo de treinamento, incluindo o texto original, os tokens resultantes, os IDs dos tokens e a decodificação dos IDs de volta para o texto original."
      ],
      "metadata": {
        "id": "6XK_IeG7xPbm"
      }
    },
    {
      "cell_type": "code",
      "source": [
        "#tokenizador BERT para codificar os textos de treinamento e teste\n",
        "max_len=120\n",
        "train_encodings = tokenizer(list(train_text), truncation=True, padding=True, max_length=max_len,return_tensors=\"pt\")\n",
        "test_encodings = tokenizer(list(test_text), truncation=True, padding=True, max_length=max_len,return_tensors=\"pt\")\n",
        "\n",
        "#imprime o primeiro tweet de treino codificado\n",
        "print(list(train_text)[0])\n",
        "tokenizer.tokenize(list(train_text)[0] )[:max_len]\n",
        "train_encodings.input_ids[0]\n",
        "tokenizer.decode(train_encodings.input_ids[0] )"
      ],
      "metadata": {
        "colab": {
          "base_uri": "https://localhost:8080/",
          "height": 87
        },
        "id": "ZqY9XzPyYbyt",
        "outputId": "167b6f07-d091-4ebc-a95f-60d5d05c3323"
      },
      "execution_count": null,
      "outputs": [
        {
          "output_type": "stream",
          "name": "stdout",
          "text": [
            "@miIatears ai cara :(( tadinha da minha bichinha pqp\n"
          ]
        },
        {
          "output_type": "execute_result",
          "data": {
            "text/plain": [
              "'[CLS] @ miIatears ai cara : ( ( tadinha da minha bichinha pqp [SEP] [PAD] [PAD] [PAD] [PAD] [PAD] [PAD] [PAD] [PAD] [PAD] [PAD] [PAD] [PAD] [PAD] [PAD] [PAD] [PAD] [PAD] [PAD] [PAD] [PAD] [PAD] [PAD] [PAD] [PAD] [PAD] [PAD] [PAD] [PAD] [PAD] [PAD] [PAD] [PAD] [PAD] [PAD] [PAD] [PAD] [PAD] [PAD] [PAD] [PAD] [PAD] [PAD] [PAD] [PAD] [PAD] [PAD] [PAD] [PAD] [PAD] [PAD] [PAD] [PAD]'"
            ],
            "application/vnd.google.colaboratory.intrinsic+json": {
              "type": "string"
            }
          },
          "metadata": {},
          "execution_count": 77
        }
      ]
    },
    {
      "cell_type": "markdown",
      "source": [
        "# **4 RESULTADOS**"
      ],
      "metadata": {
        "id": "l6P0zxWv0Vvu"
      }
    },
    {
      "cell_type": "markdown",
      "source": [
        "### **4.1 Treinamento e avaliação do modelo**"
      ],
      "metadata": {
        "id": "jYl7v2zqUAKN"
      }
    },
    {
      "cell_type": "markdown",
      "source": [
        "Abaixo temos o cálculo para acurácia do modelo e, em seguida, iniciam o histórico de treinamento e os parâmetros necessários. Em seguida, um loop é executado para treinar e validar o modelo em cada época. Durante cada época, a função de perda é calculada, os parâmetros são atualizados e as métricas de treinamento e validação são calculadas. O histórico é atualizado e o melhor modelo é salvo com base na acurácia de validação. Essas linhas de código permitem treinar o modelo BERT para classificação de sequências e monitorar seu desempenho ao longo do tempo.\n",
        "\n",
        "Devido a limitação de memória e GPU dedicada só foi possível gerar resultados de até 4 épocas."
      ],
      "metadata": {
        "id": "mxR-5NBj0Skm"
      }
    },
    {
      "cell_type": "code",
      "source": [
        "# Definindo a função para calcular a acurácia\n",
        "def calculate_accuracy(model, encodings, labels):\n",
        "    with torch.no_grad():\n",
        "        outputs = model(**encodings)\n",
        "        logits = outputs.logits\n",
        "        predicted_labels = torch.argmax(logits, dim=1)\n",
        "        accuracy = (predicted_labels == labels).sum().item() / len(labels)\n",
        "    return accuracy\n",
        "\n",
        "# Inicializando o histórico de treinamento\n",
        "from collections import defaultdict\n",
        "history = defaultdict(list)\n",
        "best_accuracy = 0\n",
        "\n",
        "random.seed(seed)\n",
        "np.random.seed(seed)\n",
        "torch.manual_seed(seed)\n",
        "\n",
        "# Inicializando o modelo e otimizador\n",
        "model = BertForSequenceClassification.from_pretrained(PRE_TRAINED_MODEL_NAME, num_labels=3)\n",
        "optimizer = AdamW(model.parameters(), lr=2e-5, eps=1e-8)\n",
        "\n",
        "epochs = 4\n",
        "\n",
        "for epoch in range(epochs):\n",
        "    print(f\"Epoch {epoch + 1}/{epochs}\")\n",
        "    print(\"-\" * 10)\n",
        "\n",
        "    # Treinamento\n",
        "    model.train()\n",
        "    labels = torch.tensor(list(train_labels))\n",
        "    train_loss = model(**train_encodings, labels=labels).loss\n",
        "    optimizer.zero_grad()\n",
        "    train_loss.backward()\n",
        "    optimizer.step()\n",
        "\n",
        "    # Cálculo da acurácia de treinamento\n",
        "    train_accuracy = calculate_accuracy(model, train_encodings, labels)\n",
        "    print(f\"Train loss: {train_loss:.5f} accuracy: {train_accuracy:.5f}\")\n",
        "\n",
        "    # Validação\n",
        "    model.eval()\n",
        "    val_labels = torch.tensor(list(test_labels))\n",
        "    val_loss = model(**test_encodings, labels=val_labels).loss\n",
        "\n",
        "    # Cálculo da acurácia de validação\n",
        "    val_accuracy = calculate_accuracy(model, test_encodings, val_labels)\n",
        "    print(f\"Val loss: {val_loss:.5f} accuracy: {val_accuracy:.5f}\")\n",
        "    print()\n",
        "\n",
        "    # Atualização do histórico\n",
        "    history['train_acc'].append(train_accuracy)\n",
        "    history['train_loss'].append(train_loss)\n",
        "    history['val_acc'].append(val_accuracy)\n",
        "    history['val_loss'].append(val_loss)\n",
        "\n",
        "    # Salvando o melhor modelo com base na acurácia de validação\n",
        "    if val_accuracy > best_accuracy:\n",
        "        torch.save(model.state_dict(), 'best_model_state.bin')\n",
        "        best_accuracy = val_accuracy\n",
        "\n",
        "'''\n",
        "# Essas linhas de código abaixo executam o treinamento e a avaliação do modelo BERT\n",
        "para classificação de sequências. O modelo é treinado por várias épocas,\n",
        "onde a função de perda é calculada e os parâmetros são atualizados com o otimizador.\n",
        "Em seguida, o modelo é avaliado usando os dados de validação, calculando a função de perda novamente.\n",
        "Os resultados são exibidos para cada época.\n",
        "\n",
        "é uma alternativa mas adaptei para também verificar a acurácia do modelo\n",
        "\n",
        "random.seed(seed)\n",
        "np.random.seed(seed)\n",
        "torch.manual_seed(seed)\n",
        "\n",
        "model = BertForSequenceClassification.from_pretrained('bert-base-uncased', num_labels=3)\n",
        "\n",
        "optimizer = AdamW(model.parameters(), lr=2e-5, eps=1e-8)\n",
        "\n",
        "\n",
        "epochs = 5\n",
        "\n",
        "for epoch in range(epochs):\n",
        "    print(\"Training\")\n",
        "    model.train()\n",
        "    labels = torch.tensor(list(train_labels))\n",
        "    train_loss = model(**train_encodings, labels=labels).loss\n",
        "    optimizer.zero_grad()\n",
        "    train_loss.backward()\n",
        "    optimizer.step()\n",
        "    print(f\"Epoch: {epoch} | Loss: {train_loss:.5f}\")\n",
        "\n",
        "    model.eval()\n",
        "    print(\"Evaluation\")\n",
        "    with torch.inference_mode():\n",
        "        val_labels = torch.tensor(list(test_labels))\n",
        "        val_loss = model(**test_encodings, labels=val_labels).loss\n",
        "        print(f\"Epoch: {epoch} | train Loss: {train_loss:.5f} | val Loss: {val_loss:.5f}\")\n",
        "        print(\"_____________________________\")'''\n",
        "\n"
      ],
      "metadata": {
        "colab": {
          "base_uri": "https://localhost:8080/",
          "height": 594
        },
        "id": "wuLoPNtkc4rW",
        "outputId": "9028a673-e96b-497d-e234-c2c766303557"
      },
      "execution_count": null,
      "outputs": [
        {
          "output_type": "stream",
          "name": "stderr",
          "text": [
            "Some weights of BertForSequenceClassification were not initialized from the model checkpoint at neuralmind/bert-base-portuguese-cased and are newly initialized: ['classifier.bias', 'classifier.weight']\n",
            "You should probably TRAIN this model on a down-stream task to be able to use it for predictions and inference.\n",
            "/usr/local/lib/python3.10/dist-packages/transformers/optimization.py:411: FutureWarning: This implementation of AdamW is deprecated and will be removed in a future version. Use the PyTorch implementation torch.optim.AdamW instead, or set `no_deprecation_warning=True` to disable this warning\n",
            "  warnings.warn(\n"
          ]
        },
        {
          "output_type": "stream",
          "name": "stdout",
          "text": [
            "Epoch 1/4\n",
            "----------\n",
            "Train loss: 1.14593 accuracy: 0.31429\n",
            "Val loss: 1.11172 accuracy: 0.33333\n",
            "\n",
            "Epoch 2/4\n",
            "----------\n",
            "Train loss: 1.07682 accuracy: 0.60000\n",
            "Val loss: 1.05626 accuracy: 0.40000\n",
            "\n",
            "Epoch 3/4\n",
            "----------\n",
            "Train loss: 1.02869 accuracy: 0.77143\n",
            "Val loss: 1.02570 accuracy: 0.53333\n",
            "\n",
            "Epoch 4/4\n",
            "----------\n",
            "Train loss: 0.98412 accuracy: 0.71429\n",
            "Val loss: 1.00154 accuracy: 0.60000\n",
            "\n"
          ]
        },
        {
          "output_type": "execute_result",
          "data": {
            "text/plain": [
              "'\\n# Essas linhas de código abaixo executam o treinamento e a avaliação do modelo BERT\\npara classificação de sequências. O modelo é treinado por várias épocas,\\nonde a função de perda é calculada e os parâmetros são atualizados com o otimizador.\\nEm seguida, o modelo é avaliado usando os dados de validação, calculando a função de perda novamente.\\nOs resultados são exibidos para cada época. \\n\\né uma alternativa mas adaptei para também verificar a acurácia do modelo\\n\\nrandom.seed(seed)\\nnp.random.seed(seed)\\ntorch.manual_seed(seed)\\n\\nmodel = BertForSequenceClassification.from_pretrained(\\'bert-base-uncased\\', num_labels=3)\\n\\noptimizer = AdamW(model.parameters(), lr=2e-5, eps=1e-8)\\n\\n\\nepochs = 5\\n\\nfor epoch in range(epochs):\\n    print(\"Training\")\\n    model.train()\\n    labels = torch.tensor(list(train_labels))\\n    train_loss = model(**train_encodings, labels=labels).loss\\n    optimizer.zero_grad()\\n    train_loss.backward()\\n    optimizer.step()\\n    print(f\"Epoch: {epoch} | Loss: {train_loss:.5f}\")\\n\\n    model.eval()\\n    print(\"Evaluation\")\\n    with torch.inference_mode():\\n        val_labels = torch.tensor(list(test_labels))\\n        val_loss = model(**test_encodings, labels=val_labels).loss\\n        print(f\"Epoch: {epoch} | train Loss: {train_loss:.5f} | val Loss: {val_loss:.5f}\")\\n        print(\"_____________________________\")'"
            ],
            "application/vnd.google.colaboratory.intrinsic+json": {
              "type": "string"
            }
          },
          "metadata": {},
          "execution_count": 78
        }
      ]
    },
    {
      "cell_type": "markdown",
      "source": [
        "Observa-se que ao final das 4 épocas a acurácia de teste começa a aumentar, infelizmente por conta da limitação de memória não consegue-se expandir as épocas. Ajustando os parâmetros, o modelo pode ficar ainda melhor, mas acredito que esses resultados são suficientes para o propósito desse projeto"
      ],
      "metadata": {
        "id": "rIXRF7CMC92a"
      }
    },
    {
      "cell_type": "code",
      "source": [
        "print(model)"
      ],
      "metadata": {
        "colab": {
          "base_uri": "https://localhost:8080/"
        },
        "id": "0jEAkMwzdRVj",
        "outputId": "907cbe8a-faa1-4cca-d0e3-09682f431fe5"
      },
      "execution_count": null,
      "outputs": [
        {
          "output_type": "stream",
          "name": "stdout",
          "text": [
            "BertForSequenceClassification(\n",
            "  (bert): BertModel(\n",
            "    (embeddings): BertEmbeddings(\n",
            "      (word_embeddings): Embedding(29794, 768, padding_idx=0)\n",
            "      (position_embeddings): Embedding(512, 768)\n",
            "      (token_type_embeddings): Embedding(2, 768)\n",
            "      (LayerNorm): LayerNorm((768,), eps=1e-12, elementwise_affine=True)\n",
            "      (dropout): Dropout(p=0.1, inplace=False)\n",
            "    )\n",
            "    (encoder): BertEncoder(\n",
            "      (layer): ModuleList(\n",
            "        (0-11): 12 x BertLayer(\n",
            "          (attention): BertAttention(\n",
            "            (self): BertSelfAttention(\n",
            "              (query): Linear(in_features=768, out_features=768, bias=True)\n",
            "              (key): Linear(in_features=768, out_features=768, bias=True)\n",
            "              (value): Linear(in_features=768, out_features=768, bias=True)\n",
            "              (dropout): Dropout(p=0.1, inplace=False)\n",
            "            )\n",
            "            (output): BertSelfOutput(\n",
            "              (dense): Linear(in_features=768, out_features=768, bias=True)\n",
            "              (LayerNorm): LayerNorm((768,), eps=1e-12, elementwise_affine=True)\n",
            "              (dropout): Dropout(p=0.1, inplace=False)\n",
            "            )\n",
            "          )\n",
            "          (intermediate): BertIntermediate(\n",
            "            (dense): Linear(in_features=768, out_features=3072, bias=True)\n",
            "            (intermediate_act_fn): GELUActivation()\n",
            "          )\n",
            "          (output): BertOutput(\n",
            "            (dense): Linear(in_features=3072, out_features=768, bias=True)\n",
            "            (LayerNorm): LayerNorm((768,), eps=1e-12, elementwise_affine=True)\n",
            "            (dropout): Dropout(p=0.1, inplace=False)\n",
            "          )\n",
            "        )\n",
            "      )\n",
            "    )\n",
            "    (pooler): BertPooler(\n",
            "      (dense): Linear(in_features=768, out_features=768, bias=True)\n",
            "      (activation): Tanh()\n",
            "    )\n",
            "  )\n",
            "  (dropout): Dropout(p=0.1, inplace=False)\n",
            "  (classifier): Linear(in_features=768, out_features=3, bias=True)\n",
            ")\n"
          ]
        }
      ]
    },
    {
      "cell_type": "markdown",
      "source": [
        "## **4.2 Gráfico do progresso de acurácia**"
      ],
      "metadata": {
        "id": "bURAIkKbUOmT"
      }
    },
    {
      "cell_type": "markdown",
      "source": [
        "O gráfico abaixo permite visualizar a progressão da acurácia do modelo ao longo das épocas de treinamento e validação."
      ],
      "metadata": {
        "id": "k564lKwFNza4"
      }
    },
    {
      "cell_type": "code",
      "source": [
        "import matplotlib.pyplot as plt\n",
        "\n",
        "# Plotando a acurácia de treinamento e validação\n",
        "plt.plot(history['train_acc'], label='train accuracy')\n",
        "plt.plot(history['val_acc'], label='validation accuracy')\n",
        "\n",
        "# Configurações do gráfico\n",
        "plt.title('Training history')\n",
        "plt.ylabel('Accuracy')\n",
        "plt.xlabel('Epoch')\n",
        "plt.legend()\n",
        "plt.ylim([0, 1])\n",
        "\n",
        "# Exibindo o gráfico\n",
        "plt.show()"
      ],
      "metadata": {
        "colab": {
          "base_uri": "https://localhost:8080/",
          "height": 472
        },
        "id": "MMfFKqMINrF9",
        "outputId": "f0ccefd9-20c1-4b24-fac8-23ac0bdecca7"
      },
      "execution_count": null,
      "outputs": [
        {
          "output_type": "display_data",
          "data": {
            "text/plain": [
              "<Figure size 640x480 with 1 Axes>"
            ],
            "image/png": "[encoded data removed]"
          },
          "metadata": {}
        }
      ]
    },
    {
      "cell_type": "markdown",
      "source": [
        "O gráfico mostra que a acurácia do modelo está crescendo ao decorrer do processo de validação. Nota-se que o modelo melhora seu desempenho ao longo das épocas de treinamento. A perda de treinamento diminui progressivamente e a precisão aumenta. No entanto, a precisão na validação varia em cada época, alcançando uma precisão máxima de 0.60. Além disso, podemos notar pelos resultados anteriores que a função perda vem diminuindo ao acrescentar mais épocas."
      ],
      "metadata": {
        "id": "e_fjqmKhUd9w"
      }
    },
    {
      "cell_type": "markdown",
      "source": [
        "## **4.3 Matriz de Confusão**\n"
      ],
      "metadata": {
        "id": "od7qYvkCBMBM"
      }
    },
    {
      "cell_type": "code",
      "source": [
        "from sklearn.metrics import confusion_matrix\n",
        "\n",
        "def show_confusion_matrix(confusion_matrix):\n",
        "  hmap = sns.heatmap(confusion_matrix, annot=True, fmt=\"d\", cmap=\"Blues\")\n",
        "  hmap.yaxis.set_ticklabels(hmap.yaxis.get_ticklabels(), rotation=0, ha='right')\n",
        "  hmap.xaxis.set_ticklabels(hmap.xaxis.get_ticklabels(), rotation=30, ha='right')\n",
        "  plt.ylabel('True sentiment')\n",
        "  plt.xlabel('Predicted sentiment');\n",
        "\n",
        "# Cálculo da matriz de confusão\n",
        "y_pred = torch.argmax(model(**test_encodings).logits, dim=1)\n",
        "cm = confusion_matrix(val_labels, y_pred)\n",
        "\n",
        "# Exibição da matriz de confusão\n",
        "df_cm = pd.DataFrame(cm, index=class_names, columns=class_names)\n",
        "show_confusion_matrix(df_cm)\n",
        "\n"
      ],
      "metadata": {
        "colab": {
          "base_uri": "https://localhost:8080/",
          "height": 483
        },
        "id": "65AmFMVJ7Afg",
        "outputId": "9bc8ddba-85d1-4a51-90bc-54db20678099"
      },
      "execution_count": null,
      "outputs": [
        {
          "output_type": "display_data",
          "data": {
            "text/plain": [
              "<Figure size 640x480 with 2 Axes>"
            ],
            "image/png": "[encoded data removed]"
          },
          "metadata": {}
        }
      ]
    },
    {
      "cell_type": "markdown",
      "source": [
        " Mesmo com valores pequenos devido à limitação de memória  e a base curta de apenas 50 tweets que puderam ser utilizado e um total de 15 tweets utilizados na validação. Temos a performance do modelo de classificação\n",
        "\n",
        "Analisando os resultados, observa-se que o modelo apresenta uma melhor capacidade de classificar corretamente os tweets positivos e neutros, com uma taxa de acerto mais alta para essas classes. No entanto, o modelo possui uma taxa de erro relativamente maior ao classificar tweets como positivos, quando na realidade eles são neutros.\n",
        "\n",
        "Essa análise indica que o modelo pode ter uma tendência a classificar incorretamente alguns tweets neutros como positivos. Essa observação é importante para entender as características e os padrões que o modelo está considerando para classificar os tweets e pode fornecer insights sobre possíveis melhorias no desempenho do modelo.\n",
        "\n",
        "É importante ressaltar que, devido à limitação de memórias esses números podem ser imprecisos, é necessário considerar esses resultados com cautela e realizar uma análise mais aprofundada alterando esses valores quando possível."
      ],
      "metadata": {
        "id": "DIJQYO7vB4UP"
      }
    },
    {
      "cell_type": "markdown",
      "source": [
        "# **5 TESTE DO MODELO**"
      ],
      "metadata": {
        "id": "xG8Rwdn4Wi1e"
      }
    },
    {
      "cell_type": "markdown",
      "source": [
        "## **5.1 Uma pequena aplicação para testar o modelo**"
      ],
      "metadata": {
        "id": "0r5iehPWWwnt"
      }
    },
    {
      "cell_type": "markdown",
      "source": [
        "Logo abaixo, temos uma simples aplicação para deixar o modelo mais interativo e mais aplicável. Portanto, podemos digitar qualquer frase curta de no máximo 120 palavras e o modelo responderá se esta frase possui sentimentos negativo, positivo ou neutro. Dessa forma, este modelo pode ser aplicado para diferentes áreas, na economia poderiamos utilizá-lo para verificar o sentimento das pessoas em relação a alguma possível atualização nas leis que regem a economia, ou propostas de governo."
      ],
      "metadata": {
        "id": "s0wSqVpjXAeD"
      }
    },
    {
      "cell_type": "code",
      "source": [
        "#movendo tensores para algum dispositivo GPU ou CPU\n",
        "device = torch.device('cuda' if torch.cuda.is_available() else 'cpu')\n",
        "\n",
        "def classify_sentiment(text):\n",
        "    encoded_text = tokenizer.encode_plus(\n",
        "        text,\n",
        "        max_length=max_len,\n",
        "        add_special_tokens=True,\n",
        "        return_token_type_ids=False,\n",
        "        padding='longest',\n",
        "        return_attention_mask=True,\n",
        "        return_tensors='pt',\n",
        "    )\n",
        "\n",
        "    input_ids = encoded_text['input_ids'].to(device)\n",
        "    attention_mask = encoded_text['attention_mask'].to(device)\n",
        "\n",
        "    output = model(input_ids, attention_mask)\n",
        "    logits = output.logits\n",
        "    probabilities = torch.softmax(logits, dim=1)\n",
        "    sentiment_probs = probabilities[0].tolist()\n",
        "    sentiment_index = torch.argmax(logits, dim=1).item()\n",
        "    sentiment_label = class_names[sentiment_index]\n",
        "\n",
        "    return sentiment_probs, sentiment_label\n",
        "\n",
        "user_text = input(\"Digite um texto: (e tecle enter]) \")\n",
        "sentiment_probs, sentiment_label = classify_sentiment(user_text)\n",
        "sentiment_labels = pd.DataFrame(sentiment_probs, class_names)[0]\n",
        "\n",
        "print(f\"Texto: {user_text}\")\n",
        "print(f\"Probabilidades de sentimento:\\n{sentiment_labels}\")\n",
        "print(f\"Sentimento mais provável: {sentiment_label}\")\n"
      ],
      "metadata": {
        "colab": {
          "base_uri": "https://localhost:8080/"
        },
        "id": "MV-X1n-EEepC",
        "outputId": "fec5cab1-6ba1-4676-d356-4c66883d6ae2"
      },
      "execution_count": null,
      "outputs": [
        {
          "output_type": "stream",
          "name": "stdout",
          "text": [
            "Digite um texto: (e tecle enter]) muito bom\n",
            "Texto: muito bom\n",
            "Probabilidades de sentimento:\n",
            "negative    0.339977\n",
            "positive    0.343596\n",
            "neutral     0.316428\n",
            "Name: 0, dtype: float64\n",
            "Sentimento mais provável: positive\n"
          ]
        }
      ]
    },
    {
      "cell_type": "markdown",
      "source": [
        "Por conta da pequena base treinada e a escolha do modelo não ser o de melhor acurácia pela limitação computacional o modelo pode prever erroneamente algumas vezes."
      ],
      "metadata": {
        "id": "vn4go-AYqSwi"
      }
    },
    {
      "cell_type": "markdown",
      "source": [
        "# **6 CONSIDERAÇÕES FINAIS**"
      ],
      "metadata": {
        "id": "-djF5x0bHkKY"
      }
    },
    {
      "cell_type": "markdown",
      "source": [
        "Este trabalho explorou o uso do modelo BERT pré-treinado para o português brasileiro, conhecido como BERTimbau, na tarefa de análise de sentimentos. O modelo utilizado foi o BERT-base-portuguese-cased. Devido às limitações de recursos computacionais, como memória e GPU, o treinamento do modelo foi realizado por apenas 4 épocas, utilizando uma amostra de 50 tweets com seus respectivos rótulos. Essa amostra correspondeu a apenas 1% dos dados disponíveis na base original.\n",
        "\n",
        "Apesar das restrições mencionadas, os resultados obtidos foram promissores. No entanto, é importante destacar que a generalização e a precisão do modelo poderiam ser aprimoradas com o uso de um conjunto de dados maior e o aumento dos recursos computacionais disponíveis. Além disso, a impossibilidade de acessar em tempo real a API do Twitter limitou a obtenção de dados mais recentes.\n",
        "\n",
        "Para contornar essas limitações, foi utilizada uma base de dados previamente disponível, que já possuía rótulos atribuídos e colunas irrelevantes removidas. Em trabalhos futuros, sugere-se explorar outras estratégias de coleta de dados. Embora tenha sido possível concluir com êxito o objetivo de realizar a análise de sentimentos com dados do Twitter, a análise de sentimentos relacionados a frases sobre economia e tecnologias assistivas ficará para um próximo passo. É importante ressaltar que, ao obter uma amostra de dados específica para esses temas, é possível obter resultados mais precisos ao analisar o sentimento relacionado a eles.\n",
        "\n",
        "Apesar das limitações enfrentadas, os resultados obtidos até o momento forneceram insights preliminares e abrem caminho para futuras pesquisas nessas áreas. Para dar continuidade a esse trabalho, seria necessário expandir a amostra de dados, ajustar parâmetros adicionais e realizar uma análise mais aprofundada dos resultados obtidos.\n",
        "\n",
        "Em resumo, embora este estudo tenha apresentado resultados promissores considerando as limitações enfrentadas, existem oportunidades para melhorar o desempenho do modelo por meio do aumento dos recursos computacionais disponíveis e da obtenção de dados mais representativos."
      ],
      "metadata": {
        "id": "G7MbYzaeYP_T"
      }
    },
    {
      "cell_type": "markdown",
      "source": [
        "# **7 REFERÊNCIAS**"
      ],
      "metadata": {
        "id": "O3aqSc7JHwsO"
      }
    },
    {
      "cell_type": "markdown",
      "source": [
        "Devlin, J., Chang, M.-W., Lee, K., & Toutanova, K. (2019). BERT: Pre-training of Deep Bidirectional Transformers for Language Understanding. arXiv preprint arXiv:1810.04805. Recuperado de https://arxiv.org/abs/1810.04805\n",
        "\n",
        "Hansen, S., Lambert, P. J., Bloom, N., Davis, S. J., Sadun, R., & Taska, B. (2023). Remote work across jobs, companies, and space (Working Paper 31007). Recuperado de http://www.nber.org/papers/w31007\n",
        "\n",
        "Hugging Face. (n.d.). neuralmind/bert-base-portuguese-cased. Recuperado de https://huggingface.co/neuralmind/bert-base-portuguese-cased\n",
        "\n",
        "\n",
        "Kings, D. (Atualizado há 4 anos). tweetpt: Análise de Sentimentos - Tweets - Português. Kaggle. Recuperado de https://www.kaggle.com/datasets/debkings/tweetpt\n",
        "\n",
        "Souza, F. C. (2020). BERTimbau: pretrained BERT models for Brazilian Portuguese [Tese de doutorado, Universidade Estadual de Campinas].\n",
        "\n",
        "Souza, F., Nogueira, R., & Lotufo, R. (2020). BERTimbau: pretrained BERT models for Brazilian Portuguese. In Proceedings of the Conference Name or Journal Name, Volume(Issue)\n",
        "\n",
        "Vaswani, Ashish, et al. “Attention is all you need.” arXiv preprint arXiv:1706.03762 (2017)\n",
        "\n",
        "Zanini, H. (2021, 1 de novembro). Análise de sentimentos em português utilizando Pytorch e Python. Data Hackers. Recuperado de https://medium.com/data-hackers/an%C3%A1lise-de-sentimentos-em-portugu%C3%AAs-utilizando-pytorch-e-python-91a232165ec0\n",
        "\n",
        "\n"
      ],
      "metadata": {
        "id": "pi4-RyNyggAB"
      }
    }
  ]
}